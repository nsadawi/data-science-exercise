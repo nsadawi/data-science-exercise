{
 "cells": [
  {
   "cell_type": "markdown",
   "metadata": {},
   "source": [
    "# Energy Consumption Time Series Exercise - Data Exploration and Preprocessing"
   ]
  },
  {
   "cell_type": "markdown",
   "metadata": {},
   "source": [
    "## Load the data"
   ]
  },
  {
   "cell_type": "markdown",
   "metadata": {},
   "source": [
    "** Import required libraries: numpy pandas and matplotlib **"
   ]
  },
  {
   "cell_type": "code",
   "execution_count": 1,
   "metadata": {},
   "outputs": [],
   "source": [
    "import numpy as np\n",
    "import pandas as pd\n",
    "\n",
    "import matplotlib.pyplot as plt\n",
    "%matplotlib inline"
   ]
  },
  {
   "cell_type": "markdown",
   "metadata": {},
   "source": [
    "** Use pandas to read the train and test csv files **"
   ]
  },
  {
   "cell_type": "code",
   "execution_count": 2,
   "metadata": {},
   "outputs": [],
   "source": [
    "#Please update the path to the train and test files\n",
    "train = pd.read_csv('usage_train.csv')\n",
    "test = pd.read_csv('usage_test.csv')"
   ]
  },
  {
   "cell_type": "markdown",
   "metadata": {},
   "source": [
    "** Check out the head of the dataframe**"
   ]
  },
  {
   "cell_type": "code",
   "execution_count": 3,
   "metadata": {},
   "outputs": [
    {
     "data": {
      "text/html": [
       "<div>\n",
       "<style scoped>\n",
       "    .dataframe tbody tr th:only-of-type {\n",
       "        vertical-align: middle;\n",
       "    }\n",
       "\n",
       "    .dataframe tbody tr th {\n",
       "        vertical-align: top;\n",
       "    }\n",
       "\n",
       "    .dataframe thead th {\n",
       "        text-align: right;\n",
       "    }\n",
       "</style>\n",
       "<table border=\"1\" class=\"dataframe\">\n",
       "  <thead>\n",
       "    <tr style=\"text-align: right;\">\n",
       "      <th></th>\n",
       "      <th>id</th>\n",
       "      <th>datetime</th>\n",
       "      <th>usage</th>\n",
       "    </tr>\n",
       "  </thead>\n",
       "  <tbody>\n",
       "    <tr>\n",
       "      <th>0</th>\n",
       "      <td>MAC003828</td>\n",
       "      <td>2012-12-17 09:00:00</td>\n",
       "      <td>0.073</td>\n",
       "    </tr>\n",
       "    <tr>\n",
       "      <th>1</th>\n",
       "      <td>MAC003828</td>\n",
       "      <td>2012-12-17 09:30:00</td>\n",
       "      <td>0.054</td>\n",
       "    </tr>\n",
       "    <tr>\n",
       "      <th>2</th>\n",
       "      <td>MAC003828</td>\n",
       "      <td>2012-12-17 10:00:00</td>\n",
       "      <td>0.069</td>\n",
       "    </tr>\n",
       "    <tr>\n",
       "      <th>3</th>\n",
       "      <td>MAC003828</td>\n",
       "      <td>2012-12-17 10:30:00</td>\n",
       "      <td>0.070</td>\n",
       "    </tr>\n",
       "    <tr>\n",
       "      <th>4</th>\n",
       "      <td>MAC003828</td>\n",
       "      <td>2012-12-17 11:00:00</td>\n",
       "      <td>0.049</td>\n",
       "    </tr>\n",
       "  </tbody>\n",
       "</table>\n",
       "</div>"
      ],
      "text/plain": [
       "          id             datetime  usage\n",
       "0  MAC003828  2012-12-17 09:00:00  0.073\n",
       "1  MAC003828  2012-12-17 09:30:00  0.054\n",
       "2  MAC003828  2012-12-17 10:00:00  0.069\n",
       "3  MAC003828  2012-12-17 10:30:00  0.070\n",
       "4  MAC003828  2012-12-17 11:00:00  0.049"
      ]
     },
     "execution_count": 3,
     "metadata": {},
     "output_type": "execute_result"
    }
   ],
   "source": [
    "train.head()"
   ]
  },
  {
   "cell_type": "markdown",
   "metadata": {},
   "source": [
    "## Pivoting the data\n",
    "A quick look at the data reveals it's actually for multiple households (the id column has 10 unique values, each is repeated 17184 times)\n",
    "\n",
    "This means it makes sense to pivot the data and have each household as a separate column, have the datatime couln as the index and cell values will be the readings (i.e. usage)"
   ]
  },
  {
   "cell_type": "code",
   "execution_count": 4,
   "metadata": {},
   "outputs": [
    {
     "name": "stdout",
     "output_type": "stream",
     "text": [
      "['MAC003828' 'MAC003685' 'MAC005415' 'MAC000085' 'MAC004671' 'MAC004218'\n",
      " 'MAC001757' 'MAC004166' 'MAC000246' 'MAC000094']\n",
      "MAC004166    17184\n",
      "MAC003685    17184\n",
      "MAC005415    17184\n",
      "MAC004671    17184\n",
      "MAC000246    17184\n",
      "MAC001757    17184\n",
      "MAC003828    17184\n",
      "MAC000085    17184\n",
      "MAC004218    17184\n",
      "MAC000094    17184\n",
      "Name: id, dtype: int64\n"
     ]
    }
   ],
   "source": [
    "print(train.id.unique())\n",
    "print(train.id.value_counts())"
   ]
  },
  {
   "cell_type": "code",
   "execution_count": 5,
   "metadata": {},
   "outputs": [],
   "source": [
    "new_train = train.pivot(index='datetime', columns='id', values='usage')\n",
    "new_test = test.pivot(index='datetime', columns='id')# test has no values for household columns"
   ]
  },
  {
   "cell_type": "code",
   "execution_count": 6,
   "metadata": {},
   "outputs": [
    {
     "name": "stdout",
     "output_type": "stream",
     "text": [
      "(17184, 10)\n",
      "(336, 0)\n",
      "MultiIndex(levels=[[], ['MAC000085', 'MAC000094', 'MAC000246', 'MAC001757', 'MAC003685', 'MAC003828', 'MAC004166', 'MAC004218', 'MAC004671', 'MAC005415']],\n",
      "           labels=[[], []],\n",
      "           names=[None, 'id'])\n"
     ]
    }
   ],
   "source": [
    "print(new_train.shape)\n",
    "print(new_test.shape)\n",
    "print(new_test.columns)"
   ]
  },
  {
   "cell_type": "code",
   "execution_count": 7,
   "metadata": {},
   "outputs": [
    {
     "data": {
      "text/html": [
       "<div>\n",
       "<style scoped>\n",
       "    .dataframe tbody tr th:only-of-type {\n",
       "        vertical-align: middle;\n",
       "    }\n",
       "\n",
       "    .dataframe tbody tr th {\n",
       "        vertical-align: top;\n",
       "    }\n",
       "\n",
       "    .dataframe thead th {\n",
       "        text-align: right;\n",
       "    }\n",
       "</style>\n",
       "<table border=\"1\" class=\"dataframe\">\n",
       "  <thead>\n",
       "    <tr style=\"text-align: right;\">\n",
       "      <th>id</th>\n",
       "      <th>MAC000085</th>\n",
       "      <th>MAC000094</th>\n",
       "      <th>MAC000246</th>\n",
       "      <th>MAC001757</th>\n",
       "      <th>MAC003685</th>\n",
       "      <th>MAC003828</th>\n",
       "      <th>MAC004166</th>\n",
       "      <th>MAC004218</th>\n",
       "      <th>MAC004671</th>\n",
       "      <th>MAC005415</th>\n",
       "    </tr>\n",
       "    <tr>\n",
       "      <th>datetime</th>\n",
       "      <th></th>\n",
       "      <th></th>\n",
       "      <th></th>\n",
       "      <th></th>\n",
       "      <th></th>\n",
       "      <th></th>\n",
       "      <th></th>\n",
       "      <th></th>\n",
       "      <th></th>\n",
       "      <th></th>\n",
       "    </tr>\n",
       "  </thead>\n",
       "  <tbody>\n",
       "    <tr>\n",
       "      <th>2012-12-17 09:00:00</th>\n",
       "      <td>0.792</td>\n",
       "      <td>0.124</td>\n",
       "      <td>0.057</td>\n",
       "      <td>0.181</td>\n",
       "      <td>0.118</td>\n",
       "      <td>0.073</td>\n",
       "      <td>0.139</td>\n",
       "      <td>0.496</td>\n",
       "      <td>0.220</td>\n",
       "      <td>0.018</td>\n",
       "    </tr>\n",
       "    <tr>\n",
       "      <th>2012-12-17 09:30:00</th>\n",
       "      <td>0.284</td>\n",
       "      <td>0.124</td>\n",
       "      <td>0.055</td>\n",
       "      <td>0.195</td>\n",
       "      <td>0.314</td>\n",
       "      <td>0.054</td>\n",
       "      <td>0.103</td>\n",
       "      <td>0.985</td>\n",
       "      <td>0.214</td>\n",
       "      <td>0.119</td>\n",
       "    </tr>\n",
       "    <tr>\n",
       "      <th>2012-12-17 10:00:00</th>\n",
       "      <td>0.151</td>\n",
       "      <td>0.123</td>\n",
       "      <td>0.064</td>\n",
       "      <td>0.342</td>\n",
       "      <td>0.105</td>\n",
       "      <td>0.069</td>\n",
       "      <td>0.120</td>\n",
       "      <td>1.050</td>\n",
       "      <td>0.204</td>\n",
       "      <td>0.110</td>\n",
       "    </tr>\n",
       "    <tr>\n",
       "      <th>2012-12-17 10:30:00</th>\n",
       "      <td>0.416</td>\n",
       "      <td>0.154</td>\n",
       "      <td>0.049</td>\n",
       "      <td>0.140</td>\n",
       "      <td>0.583</td>\n",
       "      <td>0.070</td>\n",
       "      <td>0.121</td>\n",
       "      <td>1.117</td>\n",
       "      <td>0.250</td>\n",
       "      <td>0.054</td>\n",
       "    </tr>\n",
       "    <tr>\n",
       "      <th>2012-12-17 11:00:00</th>\n",
       "      <td>0.114</td>\n",
       "      <td>0.164</td>\n",
       "      <td>0.025</td>\n",
       "      <td>0.129</td>\n",
       "      <td>0.747</td>\n",
       "      <td>0.049</td>\n",
       "      <td>0.087</td>\n",
       "      <td>1.133</td>\n",
       "      <td>0.242</td>\n",
       "      <td>0.079</td>\n",
       "    </tr>\n",
       "  </tbody>\n",
       "</table>\n",
       "</div>"
      ],
      "text/plain": [
       "id                   MAC000085  MAC000094  MAC000246  MAC001757  MAC003685  \\\n",
       "datetime                                                                     \n",
       "2012-12-17 09:00:00      0.792      0.124      0.057      0.181      0.118   \n",
       "2012-12-17 09:30:00      0.284      0.124      0.055      0.195      0.314   \n",
       "2012-12-17 10:00:00      0.151      0.123      0.064      0.342      0.105   \n",
       "2012-12-17 10:30:00      0.416      0.154      0.049      0.140      0.583   \n",
       "2012-12-17 11:00:00      0.114      0.164      0.025      0.129      0.747   \n",
       "\n",
       "id                   MAC003828  MAC004166  MAC004218  MAC004671  MAC005415  \n",
       "datetime                                                                    \n",
       "2012-12-17 09:00:00      0.073      0.139      0.496      0.220      0.018  \n",
       "2012-12-17 09:30:00      0.054      0.103      0.985      0.214      0.119  \n",
       "2012-12-17 10:00:00      0.069      0.120      1.050      0.204      0.110  \n",
       "2012-12-17 10:30:00      0.070      0.121      1.117      0.250      0.054  \n",
       "2012-12-17 11:00:00      0.049      0.087      1.133      0.242      0.079  "
      ]
     },
     "execution_count": 7,
     "metadata": {},
     "output_type": "execute_result"
    }
   ],
   "source": [
    "new_train.head()"
   ]
  },
  {
   "cell_type": "markdown",
   "metadata": {},
   "source": [
    "## Important\n",
    "Please notice I am going to compute the average (or median) usage of all households and use it to create a model and predict  the future usage of households using this model. I can easily create a sepratae model for each household but the purpose here is to demonstrate that I can deal with Time Series Data. I hope you are ok with this!"
   ]
  },
  {
   "cell_type": "markdown",
   "metadata": {},
   "source": [
    "** Compute the mean usage **"
   ]
  },
  {
   "cell_type": "code",
   "execution_count": 8,
   "metadata": {},
   "outputs": [],
   "source": [
    "new_train['mean_usage'] = new_train.mean(axis=1)\n",
    "#new_train['median_usage'] = new_train.median(axis=1)"
   ]
  },
  {
   "cell_type": "markdown",
   "metadata": {},
   "source": [
    "** Let us plot the time average usage to get a feel of the data **"
   ]
  },
  {
   "cell_type": "code",
   "execution_count": 9,
   "metadata": {},
   "outputs": [
    {
     "data": {
      "text/plain": [
       "<matplotlib.axes._subplots.AxesSubplot at 0x1023ec320>"
      ]
     },
     "execution_count": 9,
     "metadata": {},
     "output_type": "execute_result"
    },
    {
     "data": {
      "image/png": "[encoded data removed]",
      "text/plain": [
       "<Figure size 2160x360 with 1 Axes>"
      ]
     },
     "metadata": {},
     "output_type": "display_data"
    }
   ],
   "source": [
    "new_train['mean_usage'].plot(figsize=(30,5))"
   ]
  },
  {
   "cell_type": "markdown",
   "metadata": {},
   "source": [
    "___"
   ]
  },
  {
   "cell_type": "markdown",
   "metadata": {},
   "source": [
    "### Scale the Data\n",
    "\n",
    "** Here we scale the data to be in the range (0,1) .. this is important as we are going to use RNNs **\n",
    "\n",
    "Use sklearn.preprocessing to scale the data using the MinMaxScaler."
   ]
  },
  {
   "cell_type": "code",
   "execution_count": 10,
   "metadata": {},
   "outputs": [],
   "source": [
    "from sklearn.preprocessing import MinMaxScaler\n",
    "scaler = MinMaxScaler()\n",
    "train_scaled = scaler.fit_transform(new_train['mean_usage'].values.reshape(-1, 1))"
   ]
  },
  {
   "cell_type": "markdown",
   "metadata": {},
   "source": [
    "## Batch Function"
   ]
  },
  {
   "cell_type": "code",
   "execution_count": 11,
   "metadata": {},
   "outputs": [],
   "source": [
    "def next_batch(training_data, batch_size, steps):\n",
    "    # A random starting point for each batch\n",
    "    rand_start = np.random.randint(0,len(training_data)-steps) \n",
    "\n",
    "    # Create Y data for time series in the batches\n",
    "    y_batch = np.array(training_data[rand_start:rand_start+steps+1]).reshape(1,steps+1)\n",
    "\n",
    "    return y_batch[:, :-1].reshape(-1, steps, 1), y_batch[:, 1:].reshape(-1, steps, 1) "
   ]
  },
  {
   "cell_type": "markdown",
   "metadata": {},
   "source": [
    "## Now we set up the RNN Model"
   ]
  },
  {
   "cell_type": "markdown",
   "metadata": {},
   "source": [
    "** Import TensorFlow **"
   ]
  },
  {
   "cell_type": "code",
   "execution_count": 12,
   "metadata": {},
   "outputs": [],
   "source": [
    "import tensorflow as tf"
   ]
  },
  {
   "cell_type": "markdown",
   "metadata": {},
   "source": [
    "### Declare required constants\n",
    "\n",
    "** We can play with some of these **"
   ]
  },
  {
   "cell_type": "code",
   "execution_count": 13,
   "metadata": {},
   "outputs": [],
   "source": [
    "# Only one feature (the time series)\n",
    "num_inputs = 1\n",
    "# Num of steps in each batch (can be changed)\n",
    "num_time_steps = 48\n",
    "# 100 neuron layer (can be changed)\n",
    "num_neurons = 100\n",
    "# Just one output (the predicted time series)\n",
    "num_outputs = 1\n",
    "\n",
    "# learning rate  (can be changed)\n",
    "learning_rate = 0.03 \n",
    "# how many iterations to go through (training steps) ..  (can be changed)\n",
    "num_train_iterations = 501\n",
    "# The size of the batch of data\n",
    "batch_size = 1"
   ]
  },
  {
   "cell_type": "markdown",
   "metadata": {},
   "source": [
    "** Create Placeholders for X (i.e. the input) and y (the output) **"
   ]
  },
  {
   "cell_type": "code",
   "execution_count": 14,
   "metadata": {},
   "outputs": [],
   "source": [
    "X = tf.placeholder(tf.float32, [None, num_time_steps, num_inputs])\n",
    "y = tf.placeholder(tf.float32, [None, num_time_steps, num_outputs])"
   ]
  },
  {
   "cell_type": "markdown",
   "metadata": {},
   "source": [
    "** Now create the RNN Layer **\n",
    "\n",
    "Observe that we can use (just examples):\n",
    "- BasicRNNCells\n",
    "- BasicLSTMCells\n",
    "- MultiRNNCell\n",
    "- GRUCell"
   ]
  },
  {
   "cell_type": "code",
   "execution_count": 15,
   "metadata": {},
   "outputs": [],
   "source": [
    "# Setup one output using OutputProjectionWrapper and prepare the RNN\n",
    "cell = tf.contrib.rnn.OutputProjectionWrapper(\n",
    "    tf.contrib.rnn.BasicLSTMCell(num_units=num_neurons, activation=tf.nn.relu),\n",
    "    output_size=num_outputs) "
   ]
  },
  {
   "cell_type": "markdown",
   "metadata": {},
   "source": [
    "** Now pass in the cells variable into tf.nn.dynamic_rnn, along with the first placeholder (X)**"
   ]
  },
  {
   "cell_type": "code",
   "execution_count": 16,
   "metadata": {},
   "outputs": [],
   "source": [
    "outputs, states = tf.nn.dynamic_rnn(cell, X, dtype=tf.float32)"
   ]
  },
  {
   "cell_type": "markdown",
   "metadata": {},
   "source": [
    "### Loss Function and Optimizer\n",
    "\n",
    "** Create a Mean Squared Error Loss Function and use it to minimize an AdamOptimizer **"
   ]
  },
  {
   "cell_type": "code",
   "execution_count": 17,
   "metadata": {},
   "outputs": [],
   "source": [
    "loss = tf.reduce_mean(tf.square(outputs - y)) # MSE\n",
    "optimizer = tf.train.AdamOptimizer(learning_rate=learning_rate)\n",
    "train = optimizer.minimize(loss)"
   ]
  },
  {
   "cell_type": "markdown",
   "metadata": {},
   "source": [
    "** Initialize the global variables **"
   ]
  },
  {
   "cell_type": "code",
   "execution_count": 18,
   "metadata": {},
   "outputs": [],
   "source": [
    "init = tf.global_variables_initializer()"
   ]
  },
  {
   "cell_type": "markdown",
   "metadata": {},
   "source": [
    "** Create an instance of tf.train.Saver() so we can save our model **"
   ]
  },
  {
   "cell_type": "code",
   "execution_count": 19,
   "metadata": {},
   "outputs": [],
   "source": [
    "saver = tf.train.Saver()"
   ]
  },
  {
   "cell_type": "markdown",
   "metadata": {},
   "source": [
    "### Session\n",
    "\n",
    "** Here we run a tf.Session that trains on the batches created by the next_batch function. Also add an a loss evaluation for every 100 training iterations. Remember we save the model after training is done. **"
   ]
  },
  {
   "cell_type": "code",
   "execution_count": 20,
   "metadata": {},
   "outputs": [],
   "source": [
    "# If we are using a GPU\n",
    "#gpu_options = tf.GPUOptions(per_process_gpu_memory_fraction=0.9)"
   ]
  },
  {
   "cell_type": "code",
   "execution_count": 21,
   "metadata": {},
   "outputs": [
    {
     "name": "stdout",
     "output_type": "stream",
     "text": [
      "0 \tMSE: 63381443000.0\n",
      "100 \tMSE: 0.0033547373\n",
      "200 \tMSE: 0.0029741535\n",
      "300 \tMSE: 0.0034774363\n",
      "400 \tMSE: 0.0050625736\n",
      "500 \tMSE: 0.00456599\n"
     ]
    }
   ],
   "source": [
    "#with tf.Session(config=tf.ConfigProto(gpu_options=gpu_options)) as sess:\n",
    "with tf.Session() as sess:\n",
    "    sess.run(init)\n",
    "    # Here we loop through the training data, get random batches and train the RNN\n",
    "    for iteration in range(num_train_iterations):\n",
    "        \n",
    "        X_batch, y_batch = next_batch(train_scaled,batch_size,num_time_steps)\n",
    "        sess.run(train, feed_dict={X: X_batch, y: y_batch})\n",
    "        # Print out the training MSE every 100 iterations\n",
    "        if iteration % 100 == 0:\n",
    "            \n",
    "            mse = loss.eval(feed_dict={X: X_batch, y: y_batch})\n",
    "            print(iteration, \"\\tMSE:\", mse)\n",
    "    \n",
    "    # Save Model for later\n",
    "    saver.save(sess, \"./energy_consumption_rnn_model.ext\")"
   ]
  },
  {
   "cell_type": "markdown",
   "metadata": {},
   "source": [
    "______"
   ]
  },
  {
   "cell_type": "markdown",
   "metadata": {},
   "source": [
    "## Predicting Future Usage (Test Data)\n",
    "** Remember I am using the average consumption to build the model so all households will have the same predicted usage. I can easily create models and make predictions for individual households but the purpose here is just to demonstrate how I can deal with Time Series Data! **"
   ]
  },
  {
   "cell_type": "code",
   "execution_count": 22,
   "metadata": {},
   "outputs": [],
   "source": [
    "num_points_to_predict = new_test.shape[0]"
   ]
  },
  {
   "cell_type": "markdown",
   "metadata": {},
   "source": [
    "** Now we want to attempt to predict future usage for the households. The test data has 336 data points which means we are trying to predict the usage in the next 7 days (336/48). **\n",
    "\n",
    "We predict using only the training data we had. \n",
    "\n",
    "To do this we will feed in a seed training_instance of the last num_points_to_predict points of the training_set of data to predict the next num_points_to_predict into the future."
   ]
  },
  {
   "cell_type": "code",
   "execution_count": 23,
   "metadata": {},
   "outputs": [
    {
     "name": "stdout",
     "output_type": "stream",
     "text": [
      "INFO:tensorflow:Restoring parameters from ./energy_consumption_rnn_model.ext\n"
     ]
    }
   ],
   "source": [
    "with tf.Session() as sess:\n",
    "    \n",
    "    # Use the saver instance to load the saved rnn time series model\n",
    "    saver.restore(sess, \"./energy_consumption_rnn_model.ext\")\n",
    "    \n",
    "    # Create a numpy array for the genreative seed from the last num_points_to_predict points of the \n",
    "    # training set data.\n",
    "    train_seed = list(train_scaled[-num_points_to_predict:])\n",
    "    \n",
    "    ## Now create a for loop to make the predictions \n",
    "    for iteration in range(num_points_to_predict):\n",
    "        X_batch = np.array(train_seed[-num_time_steps:]).reshape(1, num_time_steps, 1)\n",
    "        y_pred = sess.run(outputs, feed_dict={X: X_batch})\n",
    "        train_seed.append(y_pred[0, -1, 0])"
   ]
  },
  {
   "cell_type": "markdown",
   "metadata": {},
   "source": [
    "** Show the result of the predictions. **"
   ]
  },
  {
   "cell_type": "code",
   "execution_count": 24,
   "metadata": {},
   "outputs": [
    {
     "data": {
      "text/plain": [
       "672"
      ]
     },
     "execution_count": 24,
     "metadata": {},
     "output_type": "execute_result"
    }
   ],
   "source": [
    "len(train_seed)"
   ]
  },
  {
   "cell_type": "markdown",
   "metadata": {},
   "source": [
    "** Here we get the portion of the results that are the generated values and apply inverse_transform on them to turn them back into appropriate consumption units. **\n",
    "\n",
    "Also we reshape the results to be (num_points_to_predict,1) so we can easily add them to the test dataframe."
   ]
  },
  {
   "cell_type": "code",
   "execution_count": 25,
   "metadata": {},
   "outputs": [],
   "source": [
    "results = scaler.inverse_transform(np.array(train_seed[num_points_to_predict:]).reshape(num_points_to_predict,1))"
   ]
  },
  {
   "cell_type": "markdown",
   "metadata": {},
   "source": [
    "** Create a new column on the test_set called \"predicted_usage\" and set it equal to the generated results.**"
   ]
  },
  {
   "cell_type": "code",
   "execution_count": 26,
   "metadata": {},
   "outputs": [],
   "source": [
    "new_test['predicted_usage'] = results"
   ]
  },
  {
   "cell_type": "markdown",
   "metadata": {},
   "source": [
    "** View the test_set dataframe. **"
   ]
  },
  {
   "cell_type": "code",
   "execution_count": 27,
   "metadata": {},
   "outputs": [
    {
     "data": {
      "text/html": [
       "<div>\n",
       "<style scoped>\n",
       "    .dataframe tbody tr th:only-of-type {\n",
       "        vertical-align: middle;\n",
       "    }\n",
       "\n",
       "    .dataframe tbody tr th {\n",
       "        vertical-align: top;\n",
       "    }\n",
       "\n",
       "    .dataframe thead tr th {\n",
       "        text-align: left;\n",
       "    }\n",
       "\n",
       "    .dataframe thead tr:last-of-type th {\n",
       "        text-align: right;\n",
       "    }\n",
       "</style>\n",
       "<table border=\"1\" class=\"dataframe\">\n",
       "  <thead>\n",
       "    <tr>\n",
       "      <th></th>\n",
       "      <th>predicted_usage</th>\n",
       "    </tr>\n",
       "    <tr>\n",
       "      <th>id</th>\n",
       "      <th></th>\n",
       "    </tr>\n",
       "    <tr>\n",
       "      <th>datetime</th>\n",
       "      <th></th>\n",
       "    </tr>\n",
       "  </thead>\n",
       "  <tbody>\n",
       "    <tr>\n",
       "      <th>2013-12-10 09:00:00</th>\n",
       "      <td>0.301631</td>\n",
       "    </tr>\n",
       "    <tr>\n",
       "      <th>2013-12-10 09:30:00</th>\n",
       "      <td>0.318449</td>\n",
       "    </tr>\n",
       "    <tr>\n",
       "      <th>2013-12-10 10:00:00</th>\n",
       "      <td>0.335189</td>\n",
       "    </tr>\n",
       "    <tr>\n",
       "      <th>2013-12-10 10:30:00</th>\n",
       "      <td>0.348958</td>\n",
       "    </tr>\n",
       "    <tr>\n",
       "      <th>2013-12-10 11:00:00</th>\n",
       "      <td>0.359674</td>\n",
       "    </tr>\n",
       "    <tr>\n",
       "      <th>2013-12-10 11:30:00</th>\n",
       "      <td>0.367374</td>\n",
       "    </tr>\n",
       "    <tr>\n",
       "      <th>2013-12-10 12:00:00</th>\n",
       "      <td>0.372245</td>\n",
       "    </tr>\n",
       "    <tr>\n",
       "      <th>2013-12-10 12:30:00</th>\n",
       "      <td>0.374524</td>\n",
       "    </tr>\n",
       "    <tr>\n",
       "      <th>2013-12-10 13:00:00</th>\n",
       "      <td>0.374507</td>\n",
       "    </tr>\n",
       "    <tr>\n",
       "      <th>2013-12-10 13:30:00</th>\n",
       "      <td>0.372563</td>\n",
       "    </tr>\n",
       "    <tr>\n",
       "      <th>2013-12-10 14:00:00</th>\n",
       "      <td>0.369082</td>\n",
       "    </tr>\n",
       "    <tr>\n",
       "      <th>2013-12-10 14:30:00</th>\n",
       "      <td>0.364451</td>\n",
       "    </tr>\n",
       "    <tr>\n",
       "      <th>2013-12-10 15:00:00</th>\n",
       "      <td>0.359040</td>\n",
       "    </tr>\n",
       "    <tr>\n",
       "      <th>2013-12-10 15:30:00</th>\n",
       "      <td>0.353187</td>\n",
       "    </tr>\n",
       "    <tr>\n",
       "      <th>2013-12-10 16:00:00</th>\n",
       "      <td>0.347187</td>\n",
       "    </tr>\n",
       "    <tr>\n",
       "      <th>2013-12-10 16:30:00</th>\n",
       "      <td>0.341291</td>\n",
       "    </tr>\n",
       "    <tr>\n",
       "      <th>2013-12-10 17:00:00</th>\n",
       "      <td>0.335701</td>\n",
       "    </tr>\n",
       "    <tr>\n",
       "      <th>2013-12-10 17:30:00</th>\n",
       "      <td>0.330571</td>\n",
       "    </tr>\n",
       "    <tr>\n",
       "      <th>2013-12-10 18:00:00</th>\n",
       "      <td>0.326012</td>\n",
       "    </tr>\n",
       "    <tr>\n",
       "      <th>2013-12-10 18:30:00</th>\n",
       "      <td>0.322093</td>\n",
       "    </tr>\n",
       "    <tr>\n",
       "      <th>2013-12-10 19:00:00</th>\n",
       "      <td>0.318850</td>\n",
       "    </tr>\n",
       "    <tr>\n",
       "      <th>2013-12-10 19:30:00</th>\n",
       "      <td>0.316287</td>\n",
       "    </tr>\n",
       "    <tr>\n",
       "      <th>2013-12-10 20:00:00</th>\n",
       "      <td>0.314383</td>\n",
       "    </tr>\n",
       "    <tr>\n",
       "      <th>2013-12-10 20:30:00</th>\n",
       "      <td>0.313095</td>\n",
       "    </tr>\n",
       "    <tr>\n",
       "      <th>2013-12-10 21:00:00</th>\n",
       "      <td>0.312368</td>\n",
       "    </tr>\n",
       "    <tr>\n",
       "      <th>2013-12-10 21:30:00</th>\n",
       "      <td>0.312134</td>\n",
       "    </tr>\n",
       "    <tr>\n",
       "      <th>2013-12-10 22:00:00</th>\n",
       "      <td>0.312319</td>\n",
       "    </tr>\n",
       "    <tr>\n",
       "      <th>2013-12-10 22:30:00</th>\n",
       "      <td>0.312845</td>\n",
       "    </tr>\n",
       "    <tr>\n",
       "      <th>2013-12-10 23:00:00</th>\n",
       "      <td>0.313635</td>\n",
       "    </tr>\n",
       "    <tr>\n",
       "      <th>2013-12-10 23:30:00</th>\n",
       "      <td>0.314616</td>\n",
       "    </tr>\n",
       "    <tr>\n",
       "      <th>...</th>\n",
       "      <td>...</td>\n",
       "    </tr>\n",
       "    <tr>\n",
       "      <th>2013-12-16 18:00:00</th>\n",
       "      <td>0.322152</td>\n",
       "    </tr>\n",
       "    <tr>\n",
       "      <th>2013-12-16 18:30:00</th>\n",
       "      <td>0.322152</td>\n",
       "    </tr>\n",
       "    <tr>\n",
       "      <th>2013-12-16 19:00:00</th>\n",
       "      <td>0.322152</td>\n",
       "    </tr>\n",
       "    <tr>\n",
       "      <th>2013-12-16 19:30:00</th>\n",
       "      <td>0.322152</td>\n",
       "    </tr>\n",
       "    <tr>\n",
       "      <th>2013-12-16 20:00:00</th>\n",
       "      <td>0.322152</td>\n",
       "    </tr>\n",
       "    <tr>\n",
       "      <th>2013-12-16 20:30:00</th>\n",
       "      <td>0.322152</td>\n",
       "    </tr>\n",
       "    <tr>\n",
       "      <th>2013-12-16 21:00:00</th>\n",
       "      <td>0.322152</td>\n",
       "    </tr>\n",
       "    <tr>\n",
       "      <th>2013-12-16 21:30:00</th>\n",
       "      <td>0.322152</td>\n",
       "    </tr>\n",
       "    <tr>\n",
       "      <th>2013-12-16 22:00:00</th>\n",
       "      <td>0.322152</td>\n",
       "    </tr>\n",
       "    <tr>\n",
       "      <th>2013-12-16 22:30:00</th>\n",
       "      <td>0.322152</td>\n",
       "    </tr>\n",
       "    <tr>\n",
       "      <th>2013-12-16 23:00:00</th>\n",
       "      <td>0.322152</td>\n",
       "    </tr>\n",
       "    <tr>\n",
       "      <th>2013-12-16 23:30:00</th>\n",
       "      <td>0.322152</td>\n",
       "    </tr>\n",
       "    <tr>\n",
       "      <th>2013-12-17 00:00:00</th>\n",
       "      <td>0.322152</td>\n",
       "    </tr>\n",
       "    <tr>\n",
       "      <th>2013-12-17 00:30:00</th>\n",
       "      <td>0.322152</td>\n",
       "    </tr>\n",
       "    <tr>\n",
       "      <th>2013-12-17 01:00:00</th>\n",
       "      <td>0.322152</td>\n",
       "    </tr>\n",
       "    <tr>\n",
       "      <th>2013-12-17 01:30:00</th>\n",
       "      <td>0.322152</td>\n",
       "    </tr>\n",
       "    <tr>\n",
       "      <th>2013-12-17 02:00:00</th>\n",
       "      <td>0.322152</td>\n",
       "    </tr>\n",
       "    <tr>\n",
       "      <th>2013-12-17 02:30:00</th>\n",
       "      <td>0.322152</td>\n",
       "    </tr>\n",
       "    <tr>\n",
       "      <th>2013-12-17 03:00:00</th>\n",
       "      <td>0.322152</td>\n",
       "    </tr>\n",
       "    <tr>\n",
       "      <th>2013-12-17 03:30:00</th>\n",
       "      <td>0.322152</td>\n",
       "    </tr>\n",
       "    <tr>\n",
       "      <th>2013-12-17 04:00:00</th>\n",
       "      <td>0.322152</td>\n",
       "    </tr>\n",
       "    <tr>\n",
       "      <th>2013-12-17 04:30:00</th>\n",
       "      <td>0.322152</td>\n",
       "    </tr>\n",
       "    <tr>\n",
       "      <th>2013-12-17 05:00:00</th>\n",
       "      <td>0.322152</td>\n",
       "    </tr>\n",
       "    <tr>\n",
       "      <th>2013-12-17 05:30:00</th>\n",
       "      <td>0.322152</td>\n",
       "    </tr>\n",
       "    <tr>\n",
       "      <th>2013-12-17 06:00:00</th>\n",
       "      <td>0.322152</td>\n",
       "    </tr>\n",
       "    <tr>\n",
       "      <th>2013-12-17 06:30:00</th>\n",
       "      <td>0.322152</td>\n",
       "    </tr>\n",
       "    <tr>\n",
       "      <th>2013-12-17 07:00:00</th>\n",
       "      <td>0.322152</td>\n",
       "    </tr>\n",
       "    <tr>\n",
       "      <th>2013-12-17 07:30:00</th>\n",
       "      <td>0.322152</td>\n",
       "    </tr>\n",
       "    <tr>\n",
       "      <th>2013-12-17 08:00:00</th>\n",
       "      <td>0.322152</td>\n",
       "    </tr>\n",
       "    <tr>\n",
       "      <th>2013-12-17 08:30:00</th>\n",
       "      <td>0.322152</td>\n",
       "    </tr>\n",
       "  </tbody>\n",
       "</table>\n",
       "<p>336 rows × 1 columns</p>\n",
       "</div>"
      ],
      "text/plain": [
       "                    predicted_usage\n",
       "id                                 \n",
       "datetime                           \n",
       "2013-12-10 09:00:00        0.301631\n",
       "2013-12-10 09:30:00        0.318449\n",
       "2013-12-10 10:00:00        0.335189\n",
       "2013-12-10 10:30:00        0.348958\n",
       "2013-12-10 11:00:00        0.359674\n",
       "2013-12-10 11:30:00        0.367374\n",
       "2013-12-10 12:00:00        0.372245\n",
       "2013-12-10 12:30:00        0.374524\n",
       "2013-12-10 13:00:00        0.374507\n",
       "2013-12-10 13:30:00        0.372563\n",
       "2013-12-10 14:00:00        0.369082\n",
       "2013-12-10 14:30:00        0.364451\n",
       "2013-12-10 15:00:00        0.359040\n",
       "2013-12-10 15:30:00        0.353187\n",
       "2013-12-10 16:00:00        0.347187\n",
       "2013-12-10 16:30:00        0.341291\n",
       "2013-12-10 17:00:00        0.335701\n",
       "2013-12-10 17:30:00        0.330571\n",
       "2013-12-10 18:00:00        0.326012\n",
       "2013-12-10 18:30:00        0.322093\n",
       "2013-12-10 19:00:00        0.318850\n",
       "2013-12-10 19:30:00        0.316287\n",
       "2013-12-10 20:00:00        0.314383\n",
       "2013-12-10 20:30:00        0.313095\n",
       "2013-12-10 21:00:00        0.312368\n",
       "2013-12-10 21:30:00        0.312134\n",
       "2013-12-10 22:00:00        0.312319\n",
       "2013-12-10 22:30:00        0.312845\n",
       "2013-12-10 23:00:00        0.313635\n",
       "2013-12-10 23:30:00        0.314616\n",
       "...                             ...\n",
       "2013-12-16 18:00:00        0.322152\n",
       "2013-12-16 18:30:00        0.322152\n",
       "2013-12-16 19:00:00        0.322152\n",
       "2013-12-16 19:30:00        0.322152\n",
       "2013-12-16 20:00:00        0.322152\n",
       "2013-12-16 20:30:00        0.322152\n",
       "2013-12-16 21:00:00        0.322152\n",
       "2013-12-16 21:30:00        0.322152\n",
       "2013-12-16 22:00:00        0.322152\n",
       "2013-12-16 22:30:00        0.322152\n",
       "2013-12-16 23:00:00        0.322152\n",
       "2013-12-16 23:30:00        0.322152\n",
       "2013-12-17 00:00:00        0.322152\n",
       "2013-12-17 00:30:00        0.322152\n",
       "2013-12-17 01:00:00        0.322152\n",
       "2013-12-17 01:30:00        0.322152\n",
       "2013-12-17 02:00:00        0.322152\n",
       "2013-12-17 02:30:00        0.322152\n",
       "2013-12-17 03:00:00        0.322152\n",
       "2013-12-17 03:30:00        0.322152\n",
       "2013-12-17 04:00:00        0.322152\n",
       "2013-12-17 04:30:00        0.322152\n",
       "2013-12-17 05:00:00        0.322152\n",
       "2013-12-17 05:30:00        0.322152\n",
       "2013-12-17 06:00:00        0.322152\n",
       "2013-12-17 06:30:00        0.322152\n",
       "2013-12-17 07:00:00        0.322152\n",
       "2013-12-17 07:30:00        0.322152\n",
       "2013-12-17 08:00:00        0.322152\n",
       "2013-12-17 08:30:00        0.322152\n",
       "\n",
       "[336 rows x 1 columns]"
      ]
     },
     "execution_count": 27,
     "metadata": {},
     "output_type": "execute_result"
    }
   ],
   "source": [
    "new_test"
   ]
  },
  {
   "cell_type": "markdown",
   "metadata": {},
   "source": [
    "** Let us plot the predicted average consumption **"
   ]
  },
  {
   "cell_type": "code",
   "execution_count": 28,
   "metadata": {},
   "outputs": [
    {
     "data": {
      "text/plain": [
       "<matplotlib.axes._subplots.AxesSubplot at 0x119387748>"
      ]
     },
     "execution_count": 28,
     "metadata": {},
     "output_type": "execute_result"
    },
    {
     "data": {
      "image/png": "[encoded data removed]",
      "text/plain": [
       "<Figure size 432x288 with 1 Axes>"
      ]
     },
     "metadata": {},
     "output_type": "display_data"
    }
   ],
   "source": [
    "new_test['predicted_usage'].plot()"
   ]
  }
 ],
 "metadata": {
  "kernelspec": {
   "display_name": "Python 3",
   "language": "python",
   "name": "python3"
  },
  "language_info": {
   "codemirror_mode": {
    "name": "ipython",
    "version": 3
   },
   "file_extension": ".py",
   "mimetype": "text/x-python",
   "name": "python",
   "nbconvert_exporter": "python",
   "pygments_lexer": "ipython3",
   "version": "3.6.1"
  }
 },
 "nbformat": 4,
 "nbformat_minor": 2
}
